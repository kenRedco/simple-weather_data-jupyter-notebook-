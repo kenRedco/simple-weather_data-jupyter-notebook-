{
 "cells": [
  {
   "cell_type": "code",
   "execution_count": 1,
   "metadata": {
    "colab": {
     "base_uri": "https://localhost:8080/"
    },
    "id": "gSlwn9A4AFgG",
    "outputId": "78b1c4eb-7be3-4c91-90dc-1970966d16c4"
   },
   "outputs": [
    {
     "name": "stdout",
     "output_type": "stream",
     "text": [
      "Requirement already satisfied: kaggle in ./dataenv/lib/python3.11/site-packages (1.6.17)\n",
      "Requirement already satisfied: six>=1.10 in ./dataenv/lib/python3.11/site-packages (from kaggle) (1.16.0)\n",
      "Requirement already satisfied: certifi>=2023.7.22 in ./dataenv/lib/python3.11/site-packages (from kaggle) (2024.7.4)\n",
      "Requirement already satisfied: python-dateutil in ./dataenv/lib/python3.11/site-packages (from kaggle) (2.9.0.post0)\n",
      "Requirement already satisfied: requests in ./dataenv/lib/python3.11/site-packages (from kaggle) (2.32.3)\n",
      "Requirement already satisfied: tqdm in ./dataenv/lib/python3.11/site-packages (from kaggle) (4.66.5)\n",
      "Requirement already satisfied: python-slugify in ./dataenv/lib/python3.11/site-packages (from kaggle) (8.0.4)\n",
      "Requirement already satisfied: urllib3 in ./dataenv/lib/python3.11/site-packages (from kaggle) (2.2.2)\n",
      "Requirement already satisfied: bleach in ./dataenv/lib/python3.11/site-packages (from kaggle) (6.1.0)\n",
      "Requirement already satisfied: webencodings in ./dataenv/lib/python3.11/site-packages (from bleach->kaggle) (0.5.1)\n",
      "Requirement already satisfied: text-unidecode>=1.3 in ./dataenv/lib/python3.11/site-packages (from python-slugify->kaggle) (1.3)\n",
      "Requirement already satisfied: charset-normalizer<4,>=2 in ./dataenv/lib/python3.11/site-packages (from requests->kaggle) (3.3.2)\n",
      "Requirement already satisfied: idna<4,>=2.5 in ./dataenv/lib/python3.11/site-packages (from requests->kaggle) (3.7)\n"
     ]
    }
   ],
   "source": [
    "! pip install kaggle"
   ]
  },
  {
   "cell_type": "code",
   "execution_count": 2,
   "metadata": {
    "colab": {
     "base_uri": "https://localhost:8080/"
    },
    "id": "sk8MohA68DlQ",
    "outputId": "2804cc79-d33b-4f3c-fa8a-b0f03a6b5721"
   },
   "outputs": [
    {
     "name": "stdout",
     "output_type": "stream",
     "text": [
      "Requirement already satisfied: pandas in ./dataenv/lib/python3.11/site-packages (2.2.2)\n",
      "Requirement already satisfied: sqlalchemy in ./dataenv/lib/python3.11/site-packages (2.0.32)\n",
      "Requirement already satisfied: pymysql in ./dataenv/lib/python3.11/site-packages (1.1.1)\n",
      "Requirement already satisfied: numpy>=1.23.2 in ./dataenv/lib/python3.11/site-packages (from pandas) (2.0.1)\n",
      "Requirement already satisfied: python-dateutil>=2.8.2 in ./dataenv/lib/python3.11/site-packages (from pandas) (2.9.0.post0)\n",
      "Requirement already satisfied: pytz>=2020.1 in ./dataenv/lib/python3.11/site-packages (from pandas) (2024.1)\n",
      "Requirement already satisfied: tzdata>=2022.7 in ./dataenv/lib/python3.11/site-packages (from pandas) (2024.1)\n",
      "Requirement already satisfied: typing-extensions>=4.6.0 in ./dataenv/lib/python3.11/site-packages (from sqlalchemy) (4.12.2)\n",
      "Requirement already satisfied: greenlet!=0.4.17 in ./dataenv/lib/python3.11/site-packages (from sqlalchemy) (3.0.3)\n",
      "Requirement already satisfied: six>=1.5 in ./dataenv/lib/python3.11/site-packages (from python-dateutil>=2.8.2->pandas) (1.16.0)\n"
     ]
    }
   ],
   "source": [
    "! pip install pandas sqlalchemy pymysql"
   ]
  },
  {
   "cell_type": "code",
   "execution_count": 3,
   "metadata": {
    "id": "5xAaQN6H8FwL"
   },
   "outputs": [],
   "source": [
    "import pandas as pd\n",
    "from sqlalchemy import create_engine\n"
   ]
  },
  {
   "cell_type": "code",
   "execution_count": null,
   "metadata": {
    "id": "TCI9hRlu8JUI"
   },
   "outputs": [],
   "source": [
    "\n"
   ]
  },
  {
   "cell_type": "code",
   "execution_count": 4,
   "metadata": {
    "colab": {
     "base_uri": "https://localhost:8080/"
    },
    "id": "KAaXDupiAwPn",
    "outputId": "7f93e320-84c1-42ee-d844-c9beef49f456"
   },
   "outputs": [
    {
     "name": "stdout",
     "output_type": "stream",
     "text": [
      "Requirement already satisfied: mysql-connector-python in ./dataenv/lib/python3.11/site-packages (9.0.0)\n",
      "Requirement already satisfied: pandas in ./dataenv/lib/python3.11/site-packages (2.2.2)\n",
      "Requirement already satisfied: numpy>=1.23.2 in ./dataenv/lib/python3.11/site-packages (from pandas) (2.0.1)\n",
      "Requirement already satisfied: python-dateutil>=2.8.2 in ./dataenv/lib/python3.11/site-packages (from pandas) (2.9.0.post0)\n",
      "Requirement already satisfied: pytz>=2020.1 in ./dataenv/lib/python3.11/site-packages (from pandas) (2024.1)\n",
      "Requirement already satisfied: tzdata>=2022.7 in ./dataenv/lib/python3.11/site-packages (from pandas) (2024.1)\n",
      "Requirement already satisfied: six>=1.5 in ./dataenv/lib/python3.11/site-packages (from python-dateutil>=2.8.2->pandas) (1.16.0)\n"
     ]
    }
   ],
   "source": [
    "!pip install mysql-connector-python\n",
    "!pip install pandas\n"
   ]
  },
  {
   "cell_type": "code",
   "execution_count": 5,
   "metadata": {
    "colab": {
     "base_uri": "https://localhost:8080/",
     "height": 443
    },
    "id": "4d1KP8Cd7JA2",
    "outputId": "df876c2f-5832-4683-f4f7-575887844806"
   },
   "outputs": [],
   "source": [
    "import mysql.connector\n",
    "import urllib.parse\n",
    "\n",
    "# Database connection details\n",
    "config = {\n",
    "    'user': 'root',\n",
    "    'password': 'Kenn@5465.',\n",
    "    'host': '127.0.0.1',  # e.g., '127.0.0.1' or the IP address of your MySQL server\n",
    "    'database': 'weather'\n",
    "}\n",
    "\n",
    "# Establish a connection\n",
    "cnx = mysql.connector.connect(**config)\n",
    "cursor = cnx.cursor()\n"
   ]
  },
  {
   "cell_type": "code",
   "execution_count": 43,
   "metadata": {},
   "outputs": [
    {
     "data": {
      "text/plain": [
       "8784"
      ]
     },
     "execution_count": 43,
     "metadata": {},
     "output_type": "execute_result"
    }
   ],
   "source": [
    "from sqlalchemy import create_engine\n",
    "import urllib.parse\n",
    "\n",
    "username = 'root'\n",
    "password = 'Kenn@5465.'\n",
    "hostname = 'localhost'  # or your MySQL server IP\n",
    "database_name = 'weather'\n",
    "encoded_password = urllib.parse.quote(password)\n",
    "\n",
    "# Create the connection string\n",
    "connection_string = f'mysql+mysqlconnector://{username}:{encoded_password}@{hostname}/{database_name}'\n",
    "engine = create_engine(connection_string)\n",
    "\n",
    "df.to_sql('weather', con=engine, if_exists='replace', index=False)\n",
    "\n"
   ]
  },
  {
   "cell_type": "code",
   "execution_count": 44,
   "metadata": {},
   "outputs": [
    {
     "name": "stdout",
     "output_type": "stream",
     "text": [
      "   Mean_Visibility\n",
      "0        27.664447\n"
     ]
    }
   ],
   "source": [
    "query = \"SELECT AVG(Visibility_km) as Mean_Visibility FROM weather;\"\n",
    "mean_visibility = pd.read_sql(query, con=engine)\n",
    "print(mean_visibility)\n"
   ]
  },
  {
   "cell_type": "code",
   "execution_count": 46,
   "metadata": {},
   "outputs": [
    {
     "name": "stdout",
     "output_type": "stream",
     "text": [
      "             Date/Time  Temp_C  Dew Point Temp_C  Rel Hum_%  Wind Speed_km/h  \\\n",
      "0       1/3/2012 19:00   -16.9             -24.8         50               24   \n",
      "1       1/5/2012 18:00    -7.1             -14.4         56               11   \n",
      "2       1/5/2012 19:00    -9.2             -15.4         61                7   \n",
      "3       1/5/2012 20:00    -9.8             -15.7         62                9   \n",
      "4       1/5/2012 21:00    -9.0             -14.8         63               13   \n",
      "...                ...     ...               ...        ...              ...   \n",
      "1321   12/26/2012 6:00   -13.4             -14.8         89                4   \n",
      "1322  12/28/2012 10:00    -6.1              -8.6         82               19   \n",
      "1323   12/29/2012 1:00   -11.9             -13.6         87               11   \n",
      "1324   12/29/2012 2:00   -11.8             -13.1         90               13   \n",
      "1325  12/30/2012 20:00   -13.8             -16.5         80               24   \n",
      "\n",
      "      Visibility_km  Press_kPa Weather_condition  \n",
      "0              25.0     101.74             Clear  \n",
      "1              25.0     100.71             Clear  \n",
      "2              25.0     100.80             Clear  \n",
      "3              25.0     100.83             Clear  \n",
      "4              25.0     100.83             Clear  \n",
      "...             ...        ...               ...  \n",
      "1321           25.0     102.47             Clear  \n",
      "1322           24.1     101.27             Clear  \n",
      "1323           25.0     101.31             Clear  \n",
      "1324           25.0     101.33             Clear  \n",
      "1325           25.0     101.52             Clear  \n",
      "\n",
      "[1326 rows x 8 columns]\n"
     ]
    }
   ],
   "source": [
    "query = \"SELECT * FROM weather WHERE Weather_condition = 'Clear';\"\n",
    "clear_weather = pd.read_sql(query, con=engine)\n",
    "print(clear_weather)\n"
   ]
  },
  {
   "cell_type": "code",
   "execution_count": 6,
   "metadata": {
    "id": "_nkt5fAdAVp3"
   },
   "outputs": [
    {
     "name": "stdout",
     "output_type": "stream",
     "text": [
      "mkdir: cannot create directory ‘/home/john/.kaggle’: File exists\n"
     ]
    }
   ],
   "source": [
    "! mkdir ~/.kaggle"
   ]
  },
  {
   "cell_type": "code",
   "execution_count": 47,
   "metadata": {},
   "outputs": [
    {
     "name": "stdout",
     "output_type": "stream",
     "text": [
      "   COUNT(*)\n",
      "0         0\n"
     ]
    }
   ],
   "source": [
    "query = \"SELECT COUNT(*) FROM weather WHERE 'Wind Speed_km/h' = 4;\"\n",
    "wind_speed_count = pd.read_sql(query, con=engine)\n",
    "print(wind_speed_count)\n"
   ]
  },
  {
   "cell_type": "code",
   "execution_count": 7,
   "metadata": {
    "colab": {
     "base_uri": "https://localhost:8080/"
    },
    "id": "2J__aTEOAcfz",
    "outputId": "a7d46895-0037-42c8-e803-fc9dba485308"
   },
   "outputs": [
    {
     "name": "stdout",
     "output_type": "stream",
     "text": [
      "cp: cannot stat 'kaggle.json': No such file or directory\n"
     ]
    }
   ],
   "source": [
    "! cp kaggle.json ~/.kaggle/"
   ]
  },
  {
   "cell_type": "code",
   "execution_count": 8,
   "metadata": {
    "colab": {
     "base_uri": "https://localhost:8080/"
    },
    "id": "260OsxgUAgV-",
    "outputId": "4801eae4-09fb-4fc5-b8ef-cf3006b3d100"
   },
   "outputs": [
    {
     "name": "stdout",
     "output_type": "stream",
     "text": [
      "chmod: cannot access '/home/john/.kaggle/kaggle.json': No such file or directory\n"
     ]
    }
   ],
   "source": [
    "! chmod 600 ~/.kaggle/kaggle.json"
   ]
  },
  {
   "cell_type": "code",
   "execution_count": 9,
   "metadata": {
    "colab": {
     "base_uri": "https://localhost:8080/"
    },
    "id": "FVXsgfxlAq0X",
    "outputId": "e348d968-115b-4b2e-cc61-ba430984b4c5"
   },
   "outputs": [
    {
     "name": "stdout",
     "output_type": "stream",
     "text": [
      "Dataset URL: https://www.kaggle.com/datasets/ayushmi77al/weather-data-set-for-beginners\n",
      "License(s): unknown\n",
      "weather-data-set-for-beginners.zip: Skipping, found more recently modified local copy (use --force to force download)\n"
     ]
    }
   ],
   "source": [
    "! kaggle datasets download ayushmi77al/weather-data-set-for-beginners"
   ]
  },
  {
   "cell_type": "code",
   "execution_count": 10,
   "metadata": {
    "colab": {
     "base_uri": "https://localhost:8080/"
    },
    "id": "uYVZw4YeBJdS",
    "outputId": "af58ece6-52cf-4e8b-ef2a-6a07d3674548"
   },
   "outputs": [
    {
     "name": "stdout",
     "output_type": "stream",
     "text": [
      "unzip:  cannot find or open /content/weather-data-set-for-beginners.zip, /content/weather-data-set-for-beginners.zip.zip or /content/weather-data-set-for-beginners.zip.ZIP.\n"
     ]
    }
   ],
   "source": [
    "!unzip /content/weather-data-set-for-beginners.zip"
   ]
  },
  {
   "cell_type": "code",
   "execution_count": 11,
   "metadata": {
    "id": "WivNAZenB3sS"
   },
   "outputs": [],
   "source": [
    "import pandas as pd\n",
    "import numpy as np"
   ]
  },
  {
   "cell_type": "code",
   "execution_count": 12,
   "metadata": {
    "id": "wqeNOGGgCDy3"
   },
   "outputs": [],
   "source": [
    "df = pd.read_csv(\"1. Weather Data.csv\")"
   ]
  },
  {
   "cell_type": "code",
   "execution_count": 1,
   "metadata": {
    "colab": {
     "base_uri": "https://localhost:8080/",
     "height": 565
    },
    "id": "9l4ksadtcjPx",
    "outputId": "cf493f2b-9b5a-45d8-eb37-386a7b49b3b2"
   },
   "outputs": [
    {
     "name": "stdout",
     "output_type": "stream",
     "text": [
      "Collecting jupyterlab-github\n",
      "  Downloading jupyterlab_github-4.0.0-py3-none-any.whl.metadata (10 kB)\n",
      "Requirement already satisfied: jupyterlab<5,>=4.0.0 in ./dataenv/lib/python3.11/site-packages (from jupyterlab-github) (4.2.4)\n",
      "Requirement already satisfied: async-lru>=1.0.0 in ./dataenv/lib/python3.11/site-packages (from jupyterlab<5,>=4.0.0->jupyterlab-github) (2.0.4)\n",
      "Requirement already satisfied: httpx>=0.25.0 in ./dataenv/lib/python3.11/site-packages (from jupyterlab<5,>=4.0.0->jupyterlab-github) (0.27.0)\n",
      "Requirement already satisfied: ipykernel>=6.5.0 in ./dataenv/lib/python3.11/site-packages (from jupyterlab<5,>=4.0.0->jupyterlab-github) (6.29.5)\n",
      "Requirement already satisfied: jinja2>=3.0.3 in ./dataenv/lib/python3.11/site-packages (from jupyterlab<5,>=4.0.0->jupyterlab-github) (3.1.4)\n",
      "Requirement already satisfied: jupyter-core in ./dataenv/lib/python3.11/site-packages (from jupyterlab<5,>=4.0.0->jupyterlab-github) (5.7.2)\n",
      "Requirement already satisfied: jupyter-lsp>=2.0.0 in ./dataenv/lib/python3.11/site-packages (from jupyterlab<5,>=4.0.0->jupyterlab-github) (2.2.5)\n",
      "Requirement already satisfied: jupyter-server<3,>=2.4.0 in ./dataenv/lib/python3.11/site-packages (from jupyterlab<5,>=4.0.0->jupyterlab-github) (2.14.2)\n",
      "Requirement already satisfied: jupyterlab-server<3,>=2.27.1 in ./dataenv/lib/python3.11/site-packages (from jupyterlab<5,>=4.0.0->jupyterlab-github) (2.27.3)\n",
      "Requirement already satisfied: notebook-shim>=0.2 in ./dataenv/lib/python3.11/site-packages (from jupyterlab<5,>=4.0.0->jupyterlab-github) (0.2.4)\n",
      "Requirement already satisfied: packaging in ./dataenv/lib/python3.11/site-packages (from jupyterlab<5,>=4.0.0->jupyterlab-github) (24.1)\n",
      "Requirement already satisfied: setuptools>=40.1.0 in ./dataenv/lib/python3.11/site-packages (from jupyterlab<5,>=4.0.0->jupyterlab-github) (65.5.0)\n",
      "Requirement already satisfied: tornado>=6.2.0 in ./dataenv/lib/python3.11/site-packages (from jupyterlab<5,>=4.0.0->jupyterlab-github) (6.4.1)\n",
      "Requirement already satisfied: traitlets in ./dataenv/lib/python3.11/site-packages (from jupyterlab<5,>=4.0.0->jupyterlab-github) (5.14.3)\n",
      "Requirement already satisfied: anyio in ./dataenv/lib/python3.11/site-packages (from httpx>=0.25.0->jupyterlab<5,>=4.0.0->jupyterlab-github) (4.4.0)\n",
      "Requirement already satisfied: certifi in ./dataenv/lib/python3.11/site-packages (from httpx>=0.25.0->jupyterlab<5,>=4.0.0->jupyterlab-github) (2024.7.4)\n",
      "Requirement already satisfied: httpcore==1.* in ./dataenv/lib/python3.11/site-packages (from httpx>=0.25.0->jupyterlab<5,>=4.0.0->jupyterlab-github) (1.0.5)\n",
      "Requirement already satisfied: idna in ./dataenv/lib/python3.11/site-packages (from httpx>=0.25.0->jupyterlab<5,>=4.0.0->jupyterlab-github) (3.7)\n",
      "Requirement already satisfied: sniffio in ./dataenv/lib/python3.11/site-packages (from httpx>=0.25.0->jupyterlab<5,>=4.0.0->jupyterlab-github) (1.3.1)\n",
      "Requirement already satisfied: h11<0.15,>=0.13 in ./dataenv/lib/python3.11/site-packages (from httpcore==1.*->httpx>=0.25.0->jupyterlab<5,>=4.0.0->jupyterlab-github) (0.14.0)\n",
      "Requirement already satisfied: comm>=0.1.1 in ./dataenv/lib/python3.11/site-packages (from ipykernel>=6.5.0->jupyterlab<5,>=4.0.0->jupyterlab-github) (0.2.2)\n",
      "Requirement already satisfied: debugpy>=1.6.5 in ./dataenv/lib/python3.11/site-packages (from ipykernel>=6.5.0->jupyterlab<5,>=4.0.0->jupyterlab-github) (1.8.5)\n",
      "Requirement already satisfied: ipython>=7.23.1 in ./dataenv/lib/python3.11/site-packages (from ipykernel>=6.5.0->jupyterlab<5,>=4.0.0->jupyterlab-github) (8.26.0)\n",
      "Requirement already satisfied: jupyter-client>=6.1.12 in ./dataenv/lib/python3.11/site-packages (from ipykernel>=6.5.0->jupyterlab<5,>=4.0.0->jupyterlab-github) (8.6.2)\n",
      "Requirement already satisfied: matplotlib-inline>=0.1 in ./dataenv/lib/python3.11/site-packages (from ipykernel>=6.5.0->jupyterlab<5,>=4.0.0->jupyterlab-github) (0.1.7)\n",
      "Requirement already satisfied: nest-asyncio in ./dataenv/lib/python3.11/site-packages (from ipykernel>=6.5.0->jupyterlab<5,>=4.0.0->jupyterlab-github) (1.6.0)\n",
      "Requirement already satisfied: psutil in ./dataenv/lib/python3.11/site-packages (from ipykernel>=6.5.0->jupyterlab<5,>=4.0.0->jupyterlab-github) (6.0.0)\n",
      "Requirement already satisfied: pyzmq>=24 in ./dataenv/lib/python3.11/site-packages (from ipykernel>=6.5.0->jupyterlab<5,>=4.0.0->jupyterlab-github) (26.1.0)\n",
      "Requirement already satisfied: MarkupSafe>=2.0 in ./dataenv/lib/python3.11/site-packages (from jinja2>=3.0.3->jupyterlab<5,>=4.0.0->jupyterlab-github) (2.1.5)\n",
      "Requirement already satisfied: platformdirs>=2.5 in ./dataenv/lib/python3.11/site-packages (from jupyter-core->jupyterlab<5,>=4.0.0->jupyterlab-github) (4.2.2)\n",
      "Requirement already satisfied: argon2-cffi>=21.1 in ./dataenv/lib/python3.11/site-packages (from jupyter-server<3,>=2.4.0->jupyterlab<5,>=4.0.0->jupyterlab-github) (23.1.0)\n",
      "Requirement already satisfied: jupyter-events>=0.9.0 in ./dataenv/lib/python3.11/site-packages (from jupyter-server<3,>=2.4.0->jupyterlab<5,>=4.0.0->jupyterlab-github) (0.10.0)\n",
      "Requirement already satisfied: jupyter-server-terminals>=0.4.4 in ./dataenv/lib/python3.11/site-packages (from jupyter-server<3,>=2.4.0->jupyterlab<5,>=4.0.0->jupyterlab-github) (0.5.3)\n",
      "Requirement already satisfied: nbconvert>=6.4.4 in ./dataenv/lib/python3.11/site-packages (from jupyter-server<3,>=2.4.0->jupyterlab<5,>=4.0.0->jupyterlab-github) (7.16.4)\n",
      "Requirement already satisfied: nbformat>=5.3.0 in ./dataenv/lib/python3.11/site-packages (from jupyter-server<3,>=2.4.0->jupyterlab<5,>=4.0.0->jupyterlab-github) (5.10.4)\n",
      "Requirement already satisfied: overrides>=5.0 in ./dataenv/lib/python3.11/site-packages (from jupyter-server<3,>=2.4.0->jupyterlab<5,>=4.0.0->jupyterlab-github) (7.7.0)\n",
      "Requirement already satisfied: prometheus-client>=0.9 in ./dataenv/lib/python3.11/site-packages (from jupyter-server<3,>=2.4.0->jupyterlab<5,>=4.0.0->jupyterlab-github) (0.20.0)\n",
      "Requirement already satisfied: send2trash>=1.8.2 in ./dataenv/lib/python3.11/site-packages (from jupyter-server<3,>=2.4.0->jupyterlab<5,>=4.0.0->jupyterlab-github) (1.8.3)\n",
      "Requirement already satisfied: terminado>=0.8.3 in ./dataenv/lib/python3.11/site-packages (from jupyter-server<3,>=2.4.0->jupyterlab<5,>=4.0.0->jupyterlab-github) (0.18.1)\n",
      "Requirement already satisfied: websocket-client>=1.7 in ./dataenv/lib/python3.11/site-packages (from jupyter-server<3,>=2.4.0->jupyterlab<5,>=4.0.0->jupyterlab-github) (1.8.0)\n",
      "Requirement already satisfied: babel>=2.10 in ./dataenv/lib/python3.11/site-packages (from jupyterlab-server<3,>=2.27.1->jupyterlab<5,>=4.0.0->jupyterlab-github) (2.15.0)\n",
      "Requirement already satisfied: json5>=0.9.0 in ./dataenv/lib/python3.11/site-packages (from jupyterlab-server<3,>=2.27.1->jupyterlab<5,>=4.0.0->jupyterlab-github) (0.9.25)\n",
      "Requirement already satisfied: jsonschema>=4.18.0 in ./dataenv/lib/python3.11/site-packages (from jupyterlab-server<3,>=2.27.1->jupyterlab<5,>=4.0.0->jupyterlab-github) (4.23.0)\n",
      "Requirement already satisfied: requests>=2.31 in ./dataenv/lib/python3.11/site-packages (from jupyterlab-server<3,>=2.27.1->jupyterlab<5,>=4.0.0->jupyterlab-github) (2.32.3)\n",
      "Requirement already satisfied: argon2-cffi-bindings in ./dataenv/lib/python3.11/site-packages (from argon2-cffi>=21.1->jupyter-server<3,>=2.4.0->jupyterlab<5,>=4.0.0->jupyterlab-github) (21.2.0)\n",
      "Requirement already satisfied: decorator in ./dataenv/lib/python3.11/site-packages (from ipython>=7.23.1->ipykernel>=6.5.0->jupyterlab<5,>=4.0.0->jupyterlab-github) (5.1.1)\n",
      "Requirement already satisfied: jedi>=0.16 in ./dataenv/lib/python3.11/site-packages (from ipython>=7.23.1->ipykernel>=6.5.0->jupyterlab<5,>=4.0.0->jupyterlab-github) (0.19.1)\n",
      "Requirement already satisfied: prompt-toolkit<3.1.0,>=3.0.41 in ./dataenv/lib/python3.11/site-packages (from ipython>=7.23.1->ipykernel>=6.5.0->jupyterlab<5,>=4.0.0->jupyterlab-github) (3.0.47)\n",
      "Requirement already satisfied: pygments>=2.4.0 in ./dataenv/lib/python3.11/site-packages (from ipython>=7.23.1->ipykernel>=6.5.0->jupyterlab<5,>=4.0.0->jupyterlab-github) (2.18.0)\n",
      "Requirement already satisfied: stack-data in ./dataenv/lib/python3.11/site-packages (from ipython>=7.23.1->ipykernel>=6.5.0->jupyterlab<5,>=4.0.0->jupyterlab-github) (0.6.3)\n",
      "Requirement already satisfied: typing-extensions>=4.6 in ./dataenv/lib/python3.11/site-packages (from ipython>=7.23.1->ipykernel>=6.5.0->jupyterlab<5,>=4.0.0->jupyterlab-github) (4.12.2)\n",
      "Requirement already satisfied: pexpect>4.3 in ./dataenv/lib/python3.11/site-packages (from ipython>=7.23.1->ipykernel>=6.5.0->jupyterlab<5,>=4.0.0->jupyterlab-github) (4.9.0)\n",
      "Requirement already satisfied: attrs>=22.2.0 in ./dataenv/lib/python3.11/site-packages (from jsonschema>=4.18.0->jupyterlab-server<3,>=2.27.1->jupyterlab<5,>=4.0.0->jupyterlab-github) (24.2.0)\n",
      "Requirement already satisfied: jsonschema-specifications>=2023.03.6 in ./dataenv/lib/python3.11/site-packages (from jsonschema>=4.18.0->jupyterlab-server<3,>=2.27.1->jupyterlab<5,>=4.0.0->jupyterlab-github) (2023.12.1)\n",
      "Requirement already satisfied: referencing>=0.28.4 in ./dataenv/lib/python3.11/site-packages (from jsonschema>=4.18.0->jupyterlab-server<3,>=2.27.1->jupyterlab<5,>=4.0.0->jupyterlab-github) (0.35.1)\n",
      "Requirement already satisfied: rpds-py>=0.7.1 in ./dataenv/lib/python3.11/site-packages (from jsonschema>=4.18.0->jupyterlab-server<3,>=2.27.1->jupyterlab<5,>=4.0.0->jupyterlab-github) (0.20.0)\n",
      "Requirement already satisfied: python-dateutil>=2.8.2 in ./dataenv/lib/python3.11/site-packages (from jupyter-client>=6.1.12->ipykernel>=6.5.0->jupyterlab<5,>=4.0.0->jupyterlab-github) (2.9.0.post0)\n",
      "Requirement already satisfied: python-json-logger>=2.0.4 in ./dataenv/lib/python3.11/site-packages (from jupyter-events>=0.9.0->jupyter-server<3,>=2.4.0->jupyterlab<5,>=4.0.0->jupyterlab-github) (2.0.7)\n",
      "Requirement already satisfied: pyyaml>=5.3 in ./dataenv/lib/python3.11/site-packages (from jupyter-events>=0.9.0->jupyter-server<3,>=2.4.0->jupyterlab<5,>=4.0.0->jupyterlab-github) (6.0.2)\n",
      "Requirement already satisfied: rfc3339-validator in ./dataenv/lib/python3.11/site-packages (from jupyter-events>=0.9.0->jupyter-server<3,>=2.4.0->jupyterlab<5,>=4.0.0->jupyterlab-github) (0.1.4)\n",
      "Requirement already satisfied: rfc3986-validator>=0.1.1 in ./dataenv/lib/python3.11/site-packages (from jupyter-events>=0.9.0->jupyter-server<3,>=2.4.0->jupyterlab<5,>=4.0.0->jupyterlab-github) (0.1.1)\n",
      "Requirement already satisfied: beautifulsoup4 in ./dataenv/lib/python3.11/site-packages (from nbconvert>=6.4.4->jupyter-server<3,>=2.4.0->jupyterlab<5,>=4.0.0->jupyterlab-github) (4.12.3)\n",
      "Requirement already satisfied: bleach!=5.0.0 in ./dataenv/lib/python3.11/site-packages (from nbconvert>=6.4.4->jupyter-server<3,>=2.4.0->jupyterlab<5,>=4.0.0->jupyterlab-github) (6.1.0)\n",
      "Requirement already satisfied: defusedxml in ./dataenv/lib/python3.11/site-packages (from nbconvert>=6.4.4->jupyter-server<3,>=2.4.0->jupyterlab<5,>=4.0.0->jupyterlab-github) (0.7.1)\n",
      "Requirement already satisfied: jupyterlab-pygments in ./dataenv/lib/python3.11/site-packages (from nbconvert>=6.4.4->jupyter-server<3,>=2.4.0->jupyterlab<5,>=4.0.0->jupyterlab-github) (0.3.0)\n",
      "Requirement already satisfied: mistune<4,>=2.0.3 in ./dataenv/lib/python3.11/site-packages (from nbconvert>=6.4.4->jupyter-server<3,>=2.4.0->jupyterlab<5,>=4.0.0->jupyterlab-github) (3.0.2)\n",
      "Requirement already satisfied: nbclient>=0.5.0 in ./dataenv/lib/python3.11/site-packages (from nbconvert>=6.4.4->jupyter-server<3,>=2.4.0->jupyterlab<5,>=4.0.0->jupyterlab-github) (0.10.0)\n",
      "Requirement already satisfied: pandocfilters>=1.4.1 in ./dataenv/lib/python3.11/site-packages (from nbconvert>=6.4.4->jupyter-server<3,>=2.4.0->jupyterlab<5,>=4.0.0->jupyterlab-github) (1.5.1)\n",
      "Requirement already satisfied: tinycss2 in ./dataenv/lib/python3.11/site-packages (from nbconvert>=6.4.4->jupyter-server<3,>=2.4.0->jupyterlab<5,>=4.0.0->jupyterlab-github) (1.3.0)\n",
      "Requirement already satisfied: fastjsonschema>=2.15 in ./dataenv/lib/python3.11/site-packages (from nbformat>=5.3.0->jupyter-server<3,>=2.4.0->jupyterlab<5,>=4.0.0->jupyterlab-github) (2.20.0)\n",
      "Requirement already satisfied: charset-normalizer<4,>=2 in ./dataenv/lib/python3.11/site-packages (from requests>=2.31->jupyterlab-server<3,>=2.27.1->jupyterlab<5,>=4.0.0->jupyterlab-github) (3.3.2)\n",
      "Requirement already satisfied: urllib3<3,>=1.21.1 in ./dataenv/lib/python3.11/site-packages (from requests>=2.31->jupyterlab-server<3,>=2.27.1->jupyterlab<5,>=4.0.0->jupyterlab-github) (2.2.2)\n",
      "Requirement already satisfied: ptyprocess in ./dataenv/lib/python3.11/site-packages (from terminado>=0.8.3->jupyter-server<3,>=2.4.0->jupyterlab<5,>=4.0.0->jupyterlab-github) (0.7.0)\n",
      "Requirement already satisfied: six>=1.9.0 in ./dataenv/lib/python3.11/site-packages (from bleach!=5.0.0->nbconvert>=6.4.4->jupyter-server<3,>=2.4.0->jupyterlab<5,>=4.0.0->jupyterlab-github) (1.16.0)\n",
      "Requirement already satisfied: webencodings in ./dataenv/lib/python3.11/site-packages (from bleach!=5.0.0->nbconvert>=6.4.4->jupyter-server<3,>=2.4.0->jupyterlab<5,>=4.0.0->jupyterlab-github) (0.5.1)\n",
      "Requirement already satisfied: parso<0.9.0,>=0.8.3 in ./dataenv/lib/python3.11/site-packages (from jedi>=0.16->ipython>=7.23.1->ipykernel>=6.5.0->jupyterlab<5,>=4.0.0->jupyterlab-github) (0.8.4)\n",
      "Requirement already satisfied: fqdn in ./dataenv/lib/python3.11/site-packages (from jsonschema[format-nongpl]>=4.18.0->jupyter-events>=0.9.0->jupyter-server<3,>=2.4.0->jupyterlab<5,>=4.0.0->jupyterlab-github) (1.5.1)\n",
      "Requirement already satisfied: isoduration in ./dataenv/lib/python3.11/site-packages (from jsonschema[format-nongpl]>=4.18.0->jupyter-events>=0.9.0->jupyter-server<3,>=2.4.0->jupyterlab<5,>=4.0.0->jupyterlab-github) (20.11.0)\n",
      "Requirement already satisfied: jsonpointer>1.13 in ./dataenv/lib/python3.11/site-packages (from jsonschema[format-nongpl]>=4.18.0->jupyter-events>=0.9.0->jupyter-server<3,>=2.4.0->jupyterlab<5,>=4.0.0->jupyterlab-github) (3.0.0)\n",
      "Requirement already satisfied: uri-template in ./dataenv/lib/python3.11/site-packages (from jsonschema[format-nongpl]>=4.18.0->jupyter-events>=0.9.0->jupyter-server<3,>=2.4.0->jupyterlab<5,>=4.0.0->jupyterlab-github) (1.3.0)\n",
      "Requirement already satisfied: webcolors>=24.6.0 in ./dataenv/lib/python3.11/site-packages (from jsonschema[format-nongpl]>=4.18.0->jupyter-events>=0.9.0->jupyter-server<3,>=2.4.0->jupyterlab<5,>=4.0.0->jupyterlab-github) (24.6.0)\n",
      "Requirement already satisfied: wcwidth in ./dataenv/lib/python3.11/site-packages (from prompt-toolkit<3.1.0,>=3.0.41->ipython>=7.23.1->ipykernel>=6.5.0->jupyterlab<5,>=4.0.0->jupyterlab-github) (0.2.13)\n",
      "Requirement already satisfied: cffi>=1.0.1 in ./dataenv/lib/python3.11/site-packages (from argon2-cffi-bindings->argon2-cffi>=21.1->jupyter-server<3,>=2.4.0->jupyterlab<5,>=4.0.0->jupyterlab-github) (1.17.0)\n",
      "Requirement already satisfied: soupsieve>1.2 in ./dataenv/lib/python3.11/site-packages (from beautifulsoup4->nbconvert>=6.4.4->jupyter-server<3,>=2.4.0->jupyterlab<5,>=4.0.0->jupyterlab-github) (2.5)\n",
      "Requirement already satisfied: executing>=1.2.0 in ./dataenv/lib/python3.11/site-packages (from stack-data->ipython>=7.23.1->ipykernel>=6.5.0->jupyterlab<5,>=4.0.0->jupyterlab-github) (2.0.1)\n",
      "Requirement already satisfied: asttokens>=2.1.0 in ./dataenv/lib/python3.11/site-packages (from stack-data->ipython>=7.23.1->ipykernel>=6.5.0->jupyterlab<5,>=4.0.0->jupyterlab-github) (2.4.1)\n",
      "Requirement already satisfied: pure-eval in ./dataenv/lib/python3.11/site-packages (from stack-data->ipython>=7.23.1->ipykernel>=6.5.0->jupyterlab<5,>=4.0.0->jupyterlab-github) (0.2.3)\n",
      "Requirement already satisfied: pycparser in ./dataenv/lib/python3.11/site-packages (from cffi>=1.0.1->argon2-cffi-bindings->argon2-cffi>=21.1->jupyter-server<3,>=2.4.0->jupyterlab<5,>=4.0.0->jupyterlab-github) (2.22)\n",
      "Requirement already satisfied: arrow>=0.15.0 in ./dataenv/lib/python3.11/site-packages (from isoduration->jsonschema[format-nongpl]>=4.18.0->jupyter-events>=0.9.0->jupyter-server<3,>=2.4.0->jupyterlab<5,>=4.0.0->jupyterlab-github) (1.3.0)\n",
      "Requirement already satisfied: types-python-dateutil>=2.8.10 in ./dataenv/lib/python3.11/site-packages (from arrow>=0.15.0->isoduration->jsonschema[format-nongpl]>=4.18.0->jupyter-events>=0.9.0->jupyter-server<3,>=2.4.0->jupyterlab<5,>=4.0.0->jupyterlab-github) (2.9.0.20240316)\n",
      "Downloading jupyterlab_github-4.0.0-py3-none-any.whl (28 kB)\n",
      "Installing collected packages: jupyterlab-github\n",
      "Successfully installed jupyterlab-github-4.0.0\n",
      "Note: you may need to restart the kernel to use updated packages.\n"
     ]
    }
   ],
   "source": [
    "pip install jupyterlab-github\n"
   ]
  },
  {
   "cell_type": "code",
   "execution_count": 13,
   "metadata": {
    "colab": {
     "base_uri": "https://localhost:8080/",
     "height": 328
    },
    "id": "bYWQYChxCJ5m",
    "outputId": "031cc7d0-e7ff-4940-9a69-858d14903e78"
   },
   "outputs": [
    {
     "data": {
      "text/html": [
       "<div>\n",
       "<style scoped>\n",
       "    .dataframe tbody tr th:only-of-type {\n",
       "        vertical-align: middle;\n",
       "    }\n",
       "\n",
       "    .dataframe tbody tr th {\n",
       "        vertical-align: top;\n",
       "    }\n",
       "\n",
       "    .dataframe thead th {\n",
       "        text-align: right;\n",
       "    }\n",
       "</style>\n",
       "<table border=\"1\" class=\"dataframe\">\n",
       "  <thead>\n",
       "    <tr style=\"text-align: right;\">\n",
       "      <th></th>\n",
       "      <th>Date/Time</th>\n",
       "      <th>Temp_C</th>\n",
       "      <th>Dew Point Temp_C</th>\n",
       "      <th>Rel Hum_%</th>\n",
       "      <th>Wind Speed_km/h</th>\n",
       "      <th>Visibility_km</th>\n",
       "      <th>Press_kPa</th>\n",
       "      <th>Weather</th>\n",
       "    </tr>\n",
       "  </thead>\n",
       "  <tbody>\n",
       "    <tr>\n",
       "      <th>0</th>\n",
       "      <td>1/1/2012 0:00</td>\n",
       "      <td>-1.8</td>\n",
       "      <td>-3.9</td>\n",
       "      <td>86</td>\n",
       "      <td>4</td>\n",
       "      <td>8.0</td>\n",
       "      <td>101.24</td>\n",
       "      <td>Fog</td>\n",
       "    </tr>\n",
       "    <tr>\n",
       "      <th>1</th>\n",
       "      <td>1/1/2012 1:00</td>\n",
       "      <td>-1.8</td>\n",
       "      <td>-3.7</td>\n",
       "      <td>87</td>\n",
       "      <td>4</td>\n",
       "      <td>8.0</td>\n",
       "      <td>101.24</td>\n",
       "      <td>Fog</td>\n",
       "    </tr>\n",
       "    <tr>\n",
       "      <th>2</th>\n",
       "      <td>1/1/2012 2:00</td>\n",
       "      <td>-1.8</td>\n",
       "      <td>-3.4</td>\n",
       "      <td>89</td>\n",
       "      <td>7</td>\n",
       "      <td>4.0</td>\n",
       "      <td>101.26</td>\n",
       "      <td>Freezing Drizzle,Fog</td>\n",
       "    </tr>\n",
       "    <tr>\n",
       "      <th>3</th>\n",
       "      <td>1/1/2012 3:00</td>\n",
       "      <td>-1.5</td>\n",
       "      <td>-3.2</td>\n",
       "      <td>88</td>\n",
       "      <td>6</td>\n",
       "      <td>4.0</td>\n",
       "      <td>101.27</td>\n",
       "      <td>Freezing Drizzle,Fog</td>\n",
       "    </tr>\n",
       "    <tr>\n",
       "      <th>4</th>\n",
       "      <td>1/1/2012 4:00</td>\n",
       "      <td>-1.5</td>\n",
       "      <td>-3.3</td>\n",
       "      <td>88</td>\n",
       "      <td>7</td>\n",
       "      <td>4.8</td>\n",
       "      <td>101.23</td>\n",
       "      <td>Fog</td>\n",
       "    </tr>\n",
       "  </tbody>\n",
       "</table>\n",
       "</div>"
      ],
      "text/plain": [
       "       Date/Time  Temp_C  Dew Point Temp_C  Rel Hum_%  Wind Speed_km/h  \\\n",
       "0  1/1/2012 0:00    -1.8              -3.9         86                4   \n",
       "1  1/1/2012 1:00    -1.8              -3.7         87                4   \n",
       "2  1/1/2012 2:00    -1.8              -3.4         89                7   \n",
       "3  1/1/2012 3:00    -1.5              -3.2         88                6   \n",
       "4  1/1/2012 4:00    -1.5              -3.3         88                7   \n",
       "\n",
       "   Visibility_km  Press_kPa               Weather  \n",
       "0            8.0     101.24                   Fog  \n",
       "1            8.0     101.24                   Fog  \n",
       "2            4.0     101.26  Freezing Drizzle,Fog  \n",
       "3            4.0     101.27  Freezing Drizzle,Fog  \n",
       "4            4.8     101.23                   Fog  "
      ]
     },
     "execution_count": 13,
     "metadata": {},
     "output_type": "execute_result"
    }
   ],
   "source": [
    "df.head()"
   ]
  },
  {
   "cell_type": "code",
   "execution_count": 14,
   "metadata": {
    "colab": {
     "base_uri": "https://localhost:8080/"
    },
    "id": "BagjWi9pCMzp",
    "outputId": "9d0bdccc-4bb0-4823-bffd-fd469ef481e6"
   },
   "outputs": [
    {
     "name": "stdout",
     "output_type": "stream",
     "text": [
      "             Date/Time  Temp_C  Dew Point Temp_C  Rel Hum_%  Wind Speed_km/h  \\\n",
      "67      1/3/2012 19:00   -16.9             -24.8         50               24   \n",
      "114     1/5/2012 18:00    -7.1             -14.4         56               11   \n",
      "115     1/5/2012 19:00    -9.2             -15.4         61                7   \n",
      "116     1/5/2012 20:00    -9.8             -15.7         62                9   \n",
      "117     1/5/2012 21:00    -9.0             -14.8         63               13   \n",
      "...                ...     ...               ...        ...              ...   \n",
      "8646   12/26/2012 6:00   -13.4             -14.8         89                4   \n",
      "8698  12/28/2012 10:00    -6.1              -8.6         82               19   \n",
      "8713   12/29/2012 1:00   -11.9             -13.6         87               11   \n",
      "8714   12/29/2012 2:00   -11.8             -13.1         90               13   \n",
      "8756  12/30/2012 20:00   -13.8             -16.5         80               24   \n",
      "\n",
      "      Visibility_km  Press_kPa Weather  \n",
      "67             25.0     101.74   Clear  \n",
      "114            25.0     100.71   Clear  \n",
      "115            25.0     100.80   Clear  \n",
      "116            25.0     100.83   Clear  \n",
      "117            25.0     100.83   Clear  \n",
      "...             ...        ...     ...  \n",
      "8646           25.0     102.47   Clear  \n",
      "8698           24.1     101.27   Clear  \n",
      "8713           25.0     101.31   Clear  \n",
      "8714           25.0     101.33   Clear  \n",
      "8756           25.0     101.52   Clear  \n",
      "\n",
      "[1326 rows x 8 columns]\n"
     ]
    }
   ],
   "source": [
    "#records where the weather was exactly clear\n",
    "clear_weather_records = df[df['Weather'] == 'Clear']\n",
    "print(clear_weather_records)"
   ]
  },
  {
   "cell_type": "code",
   "execution_count": 15,
   "metadata": {
    "colab": {
     "base_uri": "https://localhost:8080/"
    },
    "id": "3vkY2ZdiCPML",
    "outputId": "9f75e122-932d-4f01-a610-798bbdc621be"
   },
   "outputs": [
    {
     "name": "stdout",
     "output_type": "stream",
     "text": [
      "The wind speed was exactly 4 km/hr 474 times.\n"
     ]
    }
   ],
   "source": [
    "#number of times the wind speed was exactly 4km/hr\n",
    "wind_speed_count = df[df['Wind Speed_km/h'] == 4].shape[0]\n",
    "\n",
    "# Display the result\n",
    "print(f\"The wind speed was exactly 4 km/hr {wind_speed_count} times.\")"
   ]
  },
  {
   "cell_type": "code",
   "execution_count": 16,
   "metadata": {
    "colab": {
     "base_uri": "https://localhost:8080/"
    },
    "id": "QAbx49tvBeop",
    "outputId": "4d658b63-81ee-40b2-eb5e-2d768d35c411"
   },
   "outputs": [
    {
     "name": "stdout",
     "output_type": "stream",
     "text": [
      "NULL values in each column:\n",
      "Series([], dtype: int64)\n"
     ]
    }
   ],
   "source": [
    "null_values = df.isnull().sum()\n",
    "\n",
    "#  Display the results\n",
    "print(\"NULL values in each column:\")\n",
    "print(null_values[null_values > 0])  # Only show columns with NULL values"
   ]
  },
  {
   "cell_type": "code",
   "execution_count": 17,
   "metadata": {
    "colab": {
     "base_uri": "https://localhost:8080/"
    },
    "id": "CYafXhZFCO5g",
    "outputId": "2ad83e90-e00c-40a7-e0c4-5eb760979b77"
   },
   "outputs": [
    {
     "name": "stdout",
     "output_type": "stream",
     "text": [
      "Updated DataFrame columns:\n",
      "Index(['Date/Time', 'Temp_C', 'Dew Point Temp_C', 'Rel Hum_%',\n",
      "       'Wind Speed_km/h', 'Visibility_km', 'Press_kPa', 'Weather_condition'],\n",
      "      dtype='object')\n"
     ]
    }
   ],
   "source": [
    "# Rename the column \"Weather\" to \"Weather_condition\"\n",
    "df.rename(columns={'Weather': 'Weather_condition'}, inplace=True)\n",
    "\n",
    "# Display the updated DataFrame columns\n",
    "print(\"Updated DataFrame columns:\")\n",
    "print(df.columns)"
   ]
  },
  {
   "cell_type": "code",
   "execution_count": 18,
   "metadata": {
    "colab": {
     "base_uri": "https://localhost:8080/"
    },
    "id": "YNXOxQ4eD2HG",
    "outputId": "f63a7505-61c9-4ade-f28a-95e096d4bfb2"
   },
   "outputs": [
    {
     "name": "stdout",
     "output_type": "stream",
     "text": [
      "The mean visibility of the dataset is: 27.664446721311478\n"
     ]
    }
   ],
   "source": [
    "# Calculate the mean visibility\n",
    "mean_visibility = df['Visibility_km'].mean()\n",
    "# Display the result\n",
    "print(f\"The mean visibility of the dataset is: {mean_visibility}\")"
   ]
  },
  {
   "cell_type": "code",
   "execution_count": 19,
   "metadata": {
    "colab": {
     "base_uri": "https://localhost:8080/"
    },
    "id": "i07rcGZlEGLm",
    "outputId": "73a934bf-82b8-4232-cbf4-c00bc8ed55c6"
   },
   "outputs": [
    {
     "name": "stdout",
     "output_type": "stream",
     "text": [
      "The number of records where wind speed is greater than 24 km/hr and visibility is equal to 25 km is: 308\n"
     ]
    }
   ],
   "source": [
    "filtered_records = df[(df['Wind Speed_km/h'] > 24) & (df['Visibility_km'] == 25)]\n",
    "\n",
    "# Count the number of filtered records\n",
    "record_count = filtered_records.shape[0]\n",
    "\n",
    "# Display the result\n",
    "print(f\"The number of records where wind speed is greater than 24 km/hr and visibility is equal to 25 km is: {record_count}\")"
   ]
  },
  {
   "cell_type": "code",
   "execution_count": 20,
   "metadata": {
    "colab": {
     "base_uri": "https://localhost:8080/"
    },
    "id": "LjYi6WgiE5WM",
    "outputId": "2431b14f-3854-4f1d-fa3f-bce072e2b51a"
   },
   "outputs": [
    {
     "name": "stdout",
     "output_type": "stream",
     "text": [
      "Mean values for each column grouped by weather condition:\n",
      "                                            Temp_C  Dew Point Temp_C  \\\n",
      "Weather_condition                                                      \n",
      "Clear                                     6.825716          0.089367   \n",
      "Cloudy                                    7.970544          2.375810   \n",
      "Drizzle                                   7.353659          5.504878   \n",
      "Drizzle,Fog                               8.067500          7.033750   \n",
      "Drizzle,Ice Pellets,Fog                   0.400000         -0.700000   \n",
      "Drizzle,Snow                              1.050000          0.150000   \n",
      "Drizzle,Snow,Fog                          0.693333          0.120000   \n",
      "Fog                                       4.303333          3.159333   \n",
      "Freezing Drizzle                         -5.657143         -8.000000   \n",
      "Freezing Drizzle,Fog                     -2.533333         -4.183333   \n",
      "Freezing Drizzle,Haze                    -5.433333         -8.000000   \n",
      "Freezing Drizzle,Snow                    -5.109091         -7.072727   \n",
      "Freezing Fog                             -7.575000         -9.250000   \n",
      "Freezing Rain                            -3.885714         -6.078571   \n",
      "Freezing Rain,Fog                        -2.225000         -3.750000   \n",
      "Freezing Rain,Haze                       -4.900000         -7.450000   \n",
      "Freezing Rain,Ice Pellets,Fog            -2.600000         -3.700000   \n",
      "Freezing Rain,Snow Grains                -5.000000         -7.300000   \n",
      "Haze                                     -0.200000         -2.975000   \n",
      "Mainly Clear                             12.558927          4.581671   \n",
      "Moderate Rain,Fog                         1.700000          0.800000   \n",
      "Moderate Snow                            -5.525000         -7.250000   \n",
      "Moderate Snow,Blowing Snow               -5.450000         -6.500000   \n",
      "Mostly Cloudy                            10.574287          3.131174   \n",
      "Rain                                      9.786275          7.042810   \n",
      "Rain Showers                             13.722340          9.187766   \n",
      "Rain Showers,Fog                         12.800000         12.100000   \n",
      "Rain Showers,Snow Showers                 2.150000         -1.500000   \n",
      "Rain,Fog                                  8.273276          7.219828   \n",
      "Rain,Haze                                 4.633333          2.066667   \n",
      "Rain,Ice Pellets                          0.600000         -0.600000   \n",
      "Rain,Snow                                 1.055556         -0.566667   \n",
      "Rain,Snow Grains                          1.900000         -2.100000   \n",
      "Rain,Snow,Fog                             0.800000          0.300000   \n",
      "Rain,Snow,Ice Pellets                     1.100000         -0.175000   \n",
      "Snow                                     -4.524103         -7.623333   \n",
      "Snow Pellets                              0.700000         -6.400000   \n",
      "Snow Showers                             -3.506667         -7.866667   \n",
      "Snow Showers,Fog                        -10.675000        -11.900000   \n",
      "Snow,Blowing Snow                        -5.410526         -7.621053   \n",
      "Snow,Fog                                 -5.075676         -6.364865   \n",
      "Snow,Haze                                -4.020000         -6.860000   \n",
      "Snow,Ice Pellets                         -1.883333         -3.666667   \n",
      "Thunderstorms                            24.150000         19.750000   \n",
      "Thunderstorms,Heavy Rain Showers         10.900000          9.000000   \n",
      "Thunderstorms,Moderate Rain Showers,Fog  19.600000         18.500000   \n",
      "Thunderstorms,Rain                       20.433333         18.533333   \n",
      "Thunderstorms,Rain Showers               20.037500         17.618750   \n",
      "Thunderstorms,Rain Showers,Fog           21.600000         18.700000   \n",
      "Thunderstorms,Rain,Fog                   20.600000         18.600000   \n",
      "\n",
      "                                         Rel Hum_%  Wind Speed_km/h  \\\n",
      "Weather_condition                                                     \n",
      "Clear                                    64.497738        10.557315   \n",
      "Cloudy                                   69.592593        16.127315   \n",
      "Drizzle                                  88.243902        16.097561   \n",
      "Drizzle,Fog                              93.275000        11.862500   \n",
      "Drizzle,Ice Pellets,Fog                  92.000000        20.000000   \n",
      "Drizzle,Snow                             93.500000        14.000000   \n",
      "Drizzle,Snow,Fog                         95.866667        15.533333   \n",
      "Fog                                      92.286667         7.946667   \n",
      "Freezing Drizzle                         83.571429        16.571429   \n",
      "Freezing Drizzle,Fog                     88.500000        17.000000   \n",
      "Freezing Drizzle,Haze                    82.000000        10.333333   \n",
      "Freezing Drizzle,Snow                    86.090909        16.272727   \n",
      "Freezing Fog                             87.750000         4.750000   \n",
      "Freezing Rain                            84.642857        19.214286   \n",
      "Freezing Rain,Fog                        89.500000        15.500000   \n",
      "Freezing Rain,Haze                       82.500000         7.500000   \n",
      "Freezing Rain,Ice Pellets,Fog            92.000000        28.000000   \n",
      "Freezing Rain,Snow Grains                84.000000        32.000000   \n",
      "Haze                                     81.625000        10.437500   \n",
      "Mainly Clear                             60.667142        14.144824   \n",
      "Moderate Rain,Fog                        94.000000        17.000000   \n",
      "Moderate Snow                            87.750000        33.750000   \n",
      "Moderate Snow,Blowing Snow               92.500000        40.000000   \n",
      "Mostly Cloudy                            62.102465        15.813920   \n",
      "Rain                                     83.624183        19.254902   \n",
      "Rain Showers                             75.159574        17.132979   \n",
      "Rain Showers,Fog                         96.000000        13.000000   \n",
      "Rain Showers,Snow Showers                76.500000        22.500000   \n",
      "Rain,Fog                                 93.189655        14.793103   \n",
      "Rain,Haze                                83.333333        11.666667   \n",
      "Rain,Ice Pellets                         92.000000        24.000000   \n",
      "Rain,Snow                                89.000000        28.388889   \n",
      "Rain,Snow Grains                         75.000000        26.000000   \n",
      "Rain,Snow,Fog                            96.000000         9.000000   \n",
      "Rain,Snow,Ice Pellets                    91.500000        23.250000   \n",
      "Snow                                     79.307692        20.038462   \n",
      "Snow Pellets                             59.000000        35.000000   \n",
      "Snow Showers                             72.350000        19.233333   \n",
      "Snow Showers,Fog                         90.750000        13.750000   \n",
      "Snow,Blowing Snow                        84.473684        34.842105   \n",
      "Snow,Fog                                 90.675676        17.324324   \n",
      "Snow,Haze                                80.600000         5.000000   \n",
      "Snow,Ice Pellets                         87.666667        23.833333   \n",
      "Thunderstorms                            77.000000         7.500000   \n",
      "Thunderstorms,Heavy Rain Showers         88.000000         9.000000   \n",
      "Thunderstorms,Moderate Rain Showers,Fog  93.000000        15.000000   \n",
      "Thunderstorms,Rain                       89.000000        15.666667   \n",
      "Thunderstorms,Rain Showers               86.375000        18.312500   \n",
      "Thunderstorms,Rain Showers,Fog           84.000000        19.666667   \n",
      "Thunderstorms,Rain,Fog                   88.000000        19.000000   \n",
      "\n",
      "                                         Visibility_km   Press_kPa  \n",
      "Weather_condition                                                   \n",
      "Clear                                        30.153243  101.587443  \n",
      "Cloudy                                       26.625752  100.911441  \n",
      "Drizzle                                      17.931707  100.435366  \n",
      "Drizzle,Fog                                   5.257500  100.786625  \n",
      "Drizzle,Ice Pellets,Fog                       4.000000  100.790000  \n",
      "Drizzle,Snow                                 10.500000  100.890000  \n",
      "Drizzle,Snow,Fog                              5.513333   99.281333  \n",
      "Fog                                           6.248000  101.184067  \n",
      "Freezing Drizzle                              9.200000  100.202857  \n",
      "Freezing Drizzle,Fog                          5.266667  100.441667  \n",
      "Freezing Drizzle,Haze                         2.666667  100.316667  \n",
      "Freezing Drizzle,Snow                         5.872727  100.520909  \n",
      "Freezing Fog                                  0.650000  102.320000  \n",
      "Freezing Rain                                 8.242857   99.647143  \n",
      "Freezing Rain,Fog                             7.550000   99.945000  \n",
      "Freezing Rain,Haze                            2.400000  100.375000  \n",
      "Freezing Rain,Ice Pellets,Fog                 8.000000  100.950000  \n",
      "Freezing Rain,Snow Grains                     4.800000   98.560000  \n",
      "Haze                                          7.831250  101.482500  \n",
      "Mainly Clear                                 34.264862  101.248832  \n",
      "Moderate Rain,Fog                             6.400000   99.980000  \n",
      "Moderate Snow                                 0.750000  100.275000  \n",
      "Moderate Snow,Blowing Snow                    0.600000  100.570000  \n",
      "Mostly Cloudy                                31.253842  101.025288  \n",
      "Rain                                         18.856536  100.233333  \n",
      "Rain Showers                                 22.816489  100.404043  \n",
      "Rain Showers,Fog                              6.400000   99.830000  \n",
      "Rain Showers,Snow Showers                    21.700000  101.100000  \n",
      "Rain,Fog                                      6.873276  100.500862  \n",
      "Rain,Haze                                     6.700000  100.540000  \n",
      "Rain,Ice Pellets                              9.700000  100.120000  \n",
      "Rain,Snow                                    11.672222   99.951111  \n",
      "Rain,Snow Grains                             25.000000  100.600000  \n",
      "Rain,Snow,Fog                                 6.400000  100.730000  \n",
      "Rain,Snow,Ice Pellets                         6.000000  100.105000  \n",
      "Snow                                         11.171795  100.536103  \n",
      "Snow Pellets                                  2.400000   99.700000  \n",
      "Snow Showers                                 20.158333  100.963500  \n",
      "Snow Showers,Fog                              7.025000  101.292500  \n",
      "Snow,Blowing Snow                             4.105263   99.704737  \n",
      "Snow,Fog                                      4.537838  100.688649  \n",
      "Snow,Haze                                     4.640000  100.782000  \n",
      "Snow,Ice Pellets                              7.416667  100.548333  \n",
      "Thunderstorms                                24.550000  100.230000  \n",
      "Thunderstorms,Heavy Rain Showers              2.400000  100.260000  \n",
      "Thunderstorms,Moderate Rain Showers,Fog       3.200000  100.010000  \n",
      "Thunderstorms,Rain                           19.833333  100.420000  \n",
      "Thunderstorms,Rain Showers                   15.893750  100.233750  \n",
      "Thunderstorms,Rain Showers,Fog                9.700000  100.063333  \n",
      "Thunderstorms,Rain,Fog                        4.800000  100.080000  \n"
     ]
    }
   ],
   "source": [
    "# Calculate mean values for each column grouped by weather condition\n",
    "mean_values = df.groupby('Weather_condition').mean(numeric_only=True)  # Use numeric_only=True to ignore non-numeric columns\n",
    "\n",
    "# Display the result\n",
    "print(\"Mean values for each column grouped by weather condition:\")\n",
    "print(mean_values)"
   ]
  },
  {
   "cell_type": "code",
   "execution_count": 21,
   "metadata": {
    "colab": {
     "base_uri": "https://localhost:8080/"
    },
    "id": "8COO6XqyKSJm",
    "outputId": "70426ca8-e246-4b5e-ff0f-34b6da498200"
   },
   "outputs": [
    {
     "name": "stdout",
     "output_type": "stream",
     "text": [
      "Filtered records where weather is clear and relative humidity is greater than 50 or visibility is above 40:\n",
      "             Date/Time  Temp_C  Dew Point Temp_C  Rel Hum_%  Wind Speed_km/h  \\\n",
      "114     1/5/2012 18:00    -7.1             -14.4         56               11   \n",
      "115     1/5/2012 19:00    -9.2             -15.4         61                7   \n",
      "116     1/5/2012 20:00    -9.8             -15.7         62                9   \n",
      "117     1/5/2012 21:00    -9.0             -14.8         63               13   \n",
      "241     1/11/2012 1:00   -10.7             -17.8         56               17   \n",
      "...                ...     ...               ...        ...              ...   \n",
      "8646   12/26/2012 6:00   -13.4             -14.8         89                4   \n",
      "8698  12/28/2012 10:00    -6.1              -8.6         82               19   \n",
      "8713   12/29/2012 1:00   -11.9             -13.6         87               11   \n",
      "8714   12/29/2012 2:00   -11.8             -13.1         90               13   \n",
      "8756  12/30/2012 20:00   -13.8             -16.5         80               24   \n",
      "\n",
      "      Visibility_km  Press_kPa Weather_condition  \n",
      "114            25.0     100.71             Clear  \n",
      "115            25.0     100.80             Clear  \n",
      "116            25.0     100.83             Clear  \n",
      "117            25.0     100.83             Clear  \n",
      "241            25.0     101.49             Clear  \n",
      "...             ...        ...               ...  \n",
      "8646           25.0     102.47             Clear  \n",
      "8698           24.1     101.27             Clear  \n",
      "8713           25.0     101.31             Clear  \n",
      "8714           25.0     101.33             Clear  \n",
      "8756           25.0     101.52             Clear  \n",
      "\n",
      "[1220 rows x 8 columns]\n"
     ]
    }
   ],
   "source": [
    "# Filter records where weather is clear and relative humidity > 50 or visibility > 40\n",
    "filtered_records = df[\n",
    "    (df['Weather_condition'] == 'Clear') &\n",
    "    ((df['Rel Hum_%'] > 50) | (df['Visibility_km'] > 40))\n",
    "]\n",
    "\n",
    "# Step 5: Display the filtered records\n",
    "print(\"Filtered records where weather is clear and relative humidity is greater than 50 or visibility is above 40:\")\n",
    "print(filtered_records)"
   ]
  },
  {
   "cell_type": "code",
   "execution_count": 22,
   "metadata": {
    "colab": {
     "base_uri": "https://localhost:8080/"
    },
    "id": "E8VXj-dqLjNv",
    "outputId": "e9ed7858-7ef2-4725-c282-eea82b5ac35a"
   },
   "outputs": [
    {
     "name": "stdout",
     "output_type": "stream",
     "text": [
      "The number of weather conditions that include snow is: 583\n"
     ]
    }
   ],
   "source": [
    "# Filter records where weather condition includes 'snow'\n",
    "snow_conditions = df[df['Weather_condition'].str.contains('snow', case=False, na=False)]\n",
    "\n",
    "# Count the number of records with snow conditions\n",
    "snow_count = snow_conditions.shape[0]\n",
    "\n",
    "# Display the result\n",
    "print(f\"The number of weather conditions that include snow is: {snow_count}\")"
   ]
  },
  {
   "cell_type": "code",
   "execution_count": null,
   "metadata": {},
   "outputs": [],
   "source": []
  },
  {
   "cell_type": "code",
   "execution_count": null,
   "metadata": {},
   "outputs": [],
   "source": []
  }
 ],
 "metadata": {
  "colab": {
   "provenance": []
  },
  "kernelspec": {
   "display_name": "Python 3 (ipykernel)",
   "language": "python",
   "name": "python3"
  },
  "language_info": {
   "codemirror_mode": {
    "name": "ipython",
    "version": 3
   },
   "file_extension": ".py",
   "mimetype": "text/x-python",
   "name": "python",
   "nbconvert_exporter": "python",
   "pygments_lexer": "ipython3",
   "version": "3.11.7"
  }
 },
 "nbformat": 4,
 "nbformat_minor": 4
}
